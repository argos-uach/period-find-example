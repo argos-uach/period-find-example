{
 "cells": [
  {
   "cell_type": "markdown",
   "metadata": {},
   "source": [
    "Instrucciones para instalar un ambiente para este cuadernillo\n",
    "\n",
    "```bash\n",
    "conda create -n astro\n",
    "conda activate astro\n",
    "conda install jupyter matplotlib scipy pandas cython ipympl\n",
    "pip install git+git://github.com/phuijse/P4J.git\n",
    "```"
   ]
  },
  {
   "cell_type": "code",
   "execution_count": 1,
   "metadata": {},
   "outputs": [
    {
     "name": "stdout",
     "output_type": "stream",
     "text": [
      "['lc_b228_274265.dat', 'lc_b228_275778.dat', 'lc_b228_285270.dat', 'lc_b228_287187.dat', 'lc_b228_288482.dat', 'lc_b228_296174.dat', 'lc_b228_411022.dat']\n"
     ]
    }
   ],
   "source": [
    "%matplotlib ipympl\n",
    "\n",
    "import numpy as np\n",
    "import matplotlib.pylab as plt\n",
    "import pandas as pd\n",
    "\n",
    "from os import listdir, makedirs\n",
    "from os.path import isfile, join, exists\n",
    "import time\n",
    "\n",
    "import P4J\n",
    "\n",
    "data_path = \"data/\"\n",
    "ext = \"dat\"\n",
    "lc_list = [f for f in sorted(listdir(data_path)) if isfile(join(data_path, f)) and f.endswith(ext)]\n",
    "\n",
    "#lc_list = []\n",
    "#for f in sorted(listdir(data_path)):\n",
    "#    if isfile(join(data_path, f)) and f.endswith(ext):\n",
    "#        lc_list.append(f)\n",
    "print(lc_list)\n",
    "N = len(lc_list)"
   ]
  },
  {
   "cell_type": "markdown",
   "metadata": {},
   "source": [
    "Parsear una curva de luz y calcular su periodograma"
   ]
  },
  {
   "cell_type": "code",
   "execution_count": 2,
   "metadata": {},
   "outputs": [
    {
     "name": "stdout",
     "output_type": "stream",
     "text": [
      "lc_b228_274265.dat\n"
     ]
    },
    {
     "data": {
      "text/plain": [
       "'data/lc_b228_274265.dat'"
      ]
     },
     "execution_count": 2,
     "metadata": {},
     "output_type": "execute_result"
    }
   ],
   "source": [
    "idx = 0\n",
    "print(lc_list[idx])\n",
    "join(data_path, lc_list[idx])"
   ]
  },
  {
   "cell_type": "code",
   "execution_count": 3,
   "metadata": {},
   "outputs": [
    {
     "name": "stdout",
     "output_type": "stream",
     "text": [
      "lc_b228_274265.dat\n"
     ]
    }
   ],
   "source": [
    "idx = 0\n",
    "print(lc_list[idx])\n",
    "lcdf = pd.read_table(join(data_path, lc_list[idx]), header=0, delim_whitespace=True)\n",
    "mjd, mag, err, fla = lcdf.values.T"
   ]
  },
  {
   "cell_type": "code",
   "execution_count": 4,
   "metadata": {},
   "outputs": [
    {
     "name": "stdout",
     "output_type": "stream",
     "text": [
      "Elapsed time 0.175785\n"
     ]
    }
   ],
   "source": [
    "tic = time.time()\n",
    "\n",
    "my_per = P4J.periodogram(method='MHAOV') # Other methods are OLS and WLS\n",
    "my_per.set_data(mjd, mag, err)\n",
    "my_per.frequency_grid_evaluation(fmin=1.0, fmax=4.0, fresolution=1e-4)\n",
    "my_per.finetune_best_frequencies(fresolution=1e-5, n_local_optima=10)\n",
    "\n",
    "freq, per = my_per.get_periodogram()\n",
    "fbest, pbest = my_per.get_best_frequencies()\n",
    "\n",
    "toc = time.time()\n",
    "print(\"Elapsed time %f\" % (toc-tic))"
   ]
  },
  {
   "cell_type": "markdown",
   "metadata": {},
   "source": [
    "Visualizar periodograma y curva de luz doblada"
   ]
  },
  {
   "cell_type": "code",
   "execution_count": 5,
   "metadata": {},
   "outputs": [
    {
     "data": {
      "application/vnd.jupyter.widget-view+json": {
       "model_id": "10be0c622e954d13a282c0d8727ae8a4",
       "version_major": 2,
       "version_minor": 0
      },
      "text/plain": [
       "Canvas(toolbar=Toolbar(toolitems=[('Home', 'Reset original view', 'home', 'home'), ('Back', 'Back to previous …"
      ]
     },
     "metadata": {},
     "output_type": "display_data"
    },
    {
     "data": {
      "text/plain": [
       "<ErrorbarContainer object of 3 artists>"
      ]
     },
     "execution_count": 5,
     "metadata": {},
     "output_type": "execute_result"
    }
   ],
   "source": [
    "fig, ax = plt.subplots()\n",
    "ax.errorbar(mjd, mag, err, fmt='.')"
   ]
  },
  {
   "cell_type": "code",
   "execution_count": 8,
   "metadata": {},
   "outputs": [
    {
     "data": {
      "application/vnd.jupyter.widget-view+json": {
       "model_id": "b9b134e822074b6083f307f0410f5570",
       "version_major": 2,
       "version_minor": 0
      },
      "text/plain": [
       "Canvas(toolbar=Toolbar(toolitems=[('Home', 'Reset original view', 'home', 'home'), ('Back', 'Back to previous …"
      ]
     },
     "metadata": {},
     "output_type": "display_data"
    }
   ],
   "source": [
    "fig, ax = plt.subplots(1, 2, figsize=(10, 4), tight_layout=True, dpi=120)\n",
    "ax[0].plot(freq, per)\n",
    "ymin, ymax = ax[0].get_ylim()\n",
    "ax[0].set_ylim([ymin, ymax])\n",
    "ax[0].set_xlabel('Frequency [1/MJD]')\n",
    "ax[0].set_ylabel('Periodogram')\n",
    "plt.grid()\n",
    "\n",
    "f_fold = fbest[0]\n",
    "\n",
    "ax[0].plot([f_fold, f_fold], [ymin, ymax], 'r--', linewidth=4, alpha=0.25)\n",
    "\n",
    "\n",
    "phase = np.mod(mjd, 1.0/f_fold)*f_fold\n",
    "I = np.argsort(phase)\n",
    "ax[1].errorbar(np.concatenate([np.sort(phase), np.sort(phase)+1.0]), \n",
    "            np.concatenate([mag[I], mag[I]]),\n",
    "            np.concatenate([err[I], err[I]]), fmt='.')\n",
    "\n",
    "ax[1].invert_yaxis()\n",
    "ax[1].set_xlabel('Phase @ %0.5f [1/d], %0.5f [d]' %(f_fold, 1.0/f_fold))\n",
    "ax[1].set_ylabel('Magnitude')\n",
    "plt.grid()"
   ]
  },
  {
   "cell_type": "code",
   "execution_count": null,
   "metadata": {},
   "outputs": [],
   "source": []
  }
 ],
 "metadata": {
  "interpreter": {
   "hash": "0ee2bf5cd76ae30684d9bcf75ee146e2ed5a770191dad243ccb0f454d5837a92"
  },
  "kernelspec": {
   "display_name": "Python 3.9.7 64-bit ('astro': conda)",
   "name": "python3"
  },
  "language_info": {
   "codemirror_mode": {
    "name": "ipython",
    "version": 3
   },
   "file_extension": ".py",
   "mimetype": "text/x-python",
   "name": "python",
   "nbconvert_exporter": "python",
   "pygments_lexer": "ipython3",
   "version": "3.9.7"
  }
 },
 "nbformat": 4,
 "nbformat_minor": 1
}
